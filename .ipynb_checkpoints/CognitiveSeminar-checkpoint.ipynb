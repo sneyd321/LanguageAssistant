{
 "cells": [
  {
   "cell_type": "code",
   "execution_count": 13,
   "metadata": {},
   "outputs": [
    {
     "name": "stdout",
     "output_type": "stream",
     "text": [
      "Position: 1\n",
      "Label : Cat\n",
      "Score : 1.0897499322891235\n",
      "Position: 2\n",
      "Label : Kitten\n",
      "Score : 1.0701000690460205\n",
      "Position: 3\n",
      "Label : Popular cat names\n",
      "Score : 0.7059999704360962\n",
      "Position: 4\n",
      "Label : Pet\n",
      "Score : 0.5081999897956848\n",
      "Position: 5\n",
      "Label : Dog\n",
      "Score : 0.4612500071525574\n",
      "Position: 6\n",
      "Label : Heartworm\n",
      "Score : 0.3846000134944916\n",
      "Position: 7\n",
      "Label : Cuteness\n",
      "Score : 0.36579999327659607\n",
      "Position: 8\n",
      "Label : Calico cat\n",
      "Score : 0.31630000472068787\n",
      "Position: 9\n",
      "Label : Cat tree\n",
      "Score : 0.2913999855518341\n",
      "Position: 10\n",
      "Label : Scratching post\n",
      "Score : 0.2890999913215637\n",
      "{'scored': 1.0897499322891235, 'label': 'Cat'}\n"
     ]
    }
   ],
   "source": [
    "from google.cloud import vision\n",
    "import os\n",
    "import io\n",
    "import json\n",
    "\n",
    "os.environ[\"GOOGLE_APPLICATION_CREDENTIALS\"]=\"imageRegCred.json\"\n",
    "client = vision.ImageAnnotatorClient()\n",
    "\n",
    "imageToPredict = 'cat.jpg'\n",
    "predictionData = []\n",
    "client = vision.ImageAnnotatorClient()\n",
    "\n",
    "with io.open(imageToPredict, 'rb') as image_file:\n",
    "    content = image_file.read()\n",
    "\n",
    "image = vision.types.Image(content=content)\n",
    "response = client.web_detection(image=image)\n",
    "annotations = response.web_detection\n",
    "\n",
    "labels = annotations.web_entities\n",
    "position = 0\n",
    "for label in labels:\n",
    "    if (label.score >= 0.00):\n",
    "        position = position + 1\n",
    "        predictionData.append({\"label\":label.description,\"scored\":label.score})\n",
    "        print('Position: {0}'.format(position))\n",
    "        print('Label : {0}'.format(label.description))\n",
    "        print('Score : {0}'.format(label.score))\n",
    "if not predictionData:\n",
    "    predictionData.append({\"error\":\"Picture Not Accurate Enough Please take picture again\"})        \n",
    "jsonData=json.dumps(predictionData)\n",
    "\n",
    "print(predictionData[0])"
   ]
  },
  {
   "cell_type": "code",
   "execution_count": null,
   "metadata": {
    "collapsed": true
   },
   "outputs": [],
   "source": []
  }
 ],
 "metadata": {
  "kernelspec": {
   "display_name": "Python 3",
   "language": "python",
   "name": "python3"
  },
  "language_info": {
   "codemirror_mode": {
    "name": "ipython",
    "version": 3
   },
   "file_extension": ".py",
   "mimetype": "text/x-python",
   "name": "python",
   "nbconvert_exporter": "python",
   "pygments_lexer": "ipython3",
   "version": "3.5.4"
  }
 },
 "nbformat": 4,
 "nbformat_minor": 2
}
